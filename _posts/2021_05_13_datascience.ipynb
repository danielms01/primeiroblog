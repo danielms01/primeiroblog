{
  "nbformat": 4,
  "nbformat_minor": 0,
  "metadata": {
    "colab": {
      "name": "2021-05-13-datascience.ipynb",
      "provenance": [],
      "authorship_tag": "ABX9TyO893gLh1hddrP70f0tyVg9",
      "include_colab_link": true
    },
    "kernelspec": {
      "name": "python3",
      "display_name": "Python 3"
    },
    "language_info": {
      "name": "python"
    }
  },
  "cells": [
    {
      "cell_type": "markdown",
      "metadata": {
        "id": "view-in-github",
        "colab_type": "text"
      },
      "source": [
        "<a href=\"https://colab.research.google.com/github/danielms01/primeiroblog/blob/master/_posts/2021_05_13_datascience.ipynb\" target=\"_parent\"><img src=\"https://colab.research.google.com/assets/colab-badge.svg\" alt=\"Open In Colab\"/></a>"
      ]
    },
    {
      "cell_type": "markdown",
      "metadata": {
        "id": "dlvyhgf8zuVe"
      },
      "source": [
        "# Quem quer ser um Cientista de Dados?\n",
        "> Dilemas de um iniciante\n",
        "\n",
        "- toc: false\n",
        "- branch: master\n",
        "- badges: true\n",
        "- comments: false\n",
        "- categories: [blog, datascience]\n",
        "- hide: false\n",
        "- author: Daniel Magalhães"
      ]
    },
    {
      "cell_type": "code",
      "metadata": {
        "id": "sn4T9W931V_y"
      },
      "source": [
        "img_url = 'https://awari.com.br/wp-content/uploads/2021/01/carlos-muza-hpjSkU2UYSU-unsplash-1024x729.jpg'"
      ],
      "execution_count": 3,
      "outputs": []
    },
    {
      "cell_type": "markdown",
      "metadata": {
        "id": "_QZJ1Spl3NHN"
      },
      "source": [
        "***\n",
        "\n",
        "> Nas últimas décadas, a educação foi ganhando um caráter empresarial com o foco no desempenho e promoção da competitividade num mercado super competitivo.\n",
        "> \n",
        "> A partir desse contexto e da 4ª revolução tecnológica, já respirando uma 5ª, nos professores vivemos o grande desafio de olhar o nosso ato de planejar com o objetivo de garantir dados para possíveis intervenções viabilizando o processo de aprendizagem dos alunos.\n",
        "> \n",
        "> A Ciências de Dados vem como um oportunidade de olhar para esse contexto, e pensar como a educação pode se beneficiar desses dados e pensar como tudo o que é produzido e gerado ao longo do planejamento, e promover um processo de acompanhamento e avaliação qualificado.\n",
        ">\n",
        "> Dentro da operacionalidade do preparo de um Data Science, estamos diantes de novos termos, desafios inquietantes, anseios com as linguagens e com as dinâmicas que vão aparecendo. Ai volta a necessidade de exercitar uma outra língua, a solução poderosa dessa tal *caixa mágica* chamada GitHub, conectando os neófitos em programação, a seres programadores em criação do Blog.\n",
        ">\n",
        "> Com tudo isso, esse de fato é um terreno a ser desbravado e está apresentando muitas ferramentas para a descoberta dessa cidade perdida dos Insigths educacionais. "
      ]
    },
    {
      "cell_type": "code",
      "metadata": {
        "colab": {
          "base_uri": "https://localhost:8080/",
          "height": 129
        },
        "id": "Mh87lo2z3N09",
        "outputId": "270dcc22-603e-4527-c728-5b74a104502b"
      },
      "source": [
        ""
      ],
      "execution_count": 5,
      "outputs": [
        {
          "output_type": "error",
          "ename": "SyntaxError",
          "evalue": "ignored",
          "traceback": [
            "\u001b[0;36m  File \u001b[0;32m\"<ipython-input-5-1c3d302d6ea1>\"\u001b[0;36m, line \u001b[0;32m1\u001b[0m\n\u001b[0;31m    :open_book:\u001b[0m\n\u001b[0m    ^\u001b[0m\n\u001b[0;31mSyntaxError\u001b[0m\u001b[0;31m:\u001b[0m invalid syntax\n"
          ]
        }
      ]
    },
    {
      "cell_type": "code",
      "metadata": {
        "id": "uoyzVlu4-Xjm"
      },
      "source": [
        ""
      ],
      "execution_count": null,
      "outputs": []
    }
  ]
}