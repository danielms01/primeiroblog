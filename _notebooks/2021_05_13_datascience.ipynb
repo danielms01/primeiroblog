{
  "nbformat": 4,
  "nbformat_minor": 0,
  "metadata": {
    "colab": {
      "name": "2021-05-13-datascience.ipynb",
      "provenance": [],
      "collapsed_sections": [],
      "toc_visible": true,
      "authorship_tag": "ABX9TyMBD8UQtZ3f03wBknlvnIGh",
      "include_colab_link": true
    },
    "kernelspec": {
      "name": "python3",
      "display_name": "Python 3"
    },
    "language_info": {
      "name": "python"
    }
  },
  "cells": [
    {
      "cell_type": "markdown",
      "metadata": {
        "id": "view-in-github",
        "colab_type": "text"
      },
      "source": [
        "<a href=\"https://colab.research.google.com/github/danielms01/primeiroblog/blob/master/_notebooks/2021_05_13_datascience.ipynb\" target=\"_parent\"><img src=\"https://colab.research.google.com/assets/colab-badge.svg\" alt=\"Open In Colab\"/></a>"
      ]
    },
    {
      "cell_type": "markdown",
      "metadata": {
        "id": "dlvyhgf8zuVe"
      },
      "source": [
        "# Quem quer ser um Cientista de Dados?\n",
        "> Dilemas de um iniciante\n",
        "\n",
        "- toc: false\n",
        "- branch: master\n",
        "- badges: true\n",
        "- comments: false\n",
        "- categories: [blog, datascience]\n",
        "- hide: false\n",
        "- author: Daniel Magalhães"
      ]
    },
    {
      "cell_type": "markdown",
      "metadata": {
        "id": "_QZJ1Spl3NHN"
      },
      "source": [
        "***\n",
        "\n",
        "> Nas últimas décadas, a educação foi ganhando um caráter empresarial com o foco no desempenho e promoção da competitividade num mercado super competitivo.\n",
        "> \n",
        "> A partir desse contexto e da 4ª revolução tecnológica, já respirando uma 5ª, nos professores vivemos o grande desafio de olhar o nosso ato de planejar com o objetivo de garantir dados para possíveis intervenções viabilizando o processo de aprendizagem dos alunos.\n",
        "> \n",
        "> A Ciências de Dados vem como um oportunidade de olhar para esse contexto, e pensar como a educação pode se beneficiar desses dados e pensar como tudo o que é produzido e gerado ao longo do planejamento, e promover um processo de acompanhamento e avaliação qualificado.\n",
        ">\n",
        "> Dentro da operacionalidade do preparo de um Data Science, estamos diantes de novos termos, desafios inquietantes, anseios com as linguagens e com as dinâmicas que vão aparecendo. Ai volta a necessidade de exercitar uma outra língua, a solução poderosa dessa tal *caixa mágica* chamada GitHub, conectando os neófitos em programação, a seres programadores em criação do Blog.\n",
        ">\n",
        "> Com tudo isso, esse de fato é um terreno a ser desbravado e está apresentando muitas ferramentas para a descoberta dessa cidade perdida dos Insigths educacionais. "
      ]
    },
    {
      "cell_type": "code",
      "metadata": {
        "id": "HpgFNV4uJE11"
      },
      "source": [
        "img_url = 'https://i.redd.it/uo1ym26mp3u41.jpg'"
      ],
      "execution_count": null,
      "outputs": []
    }
  ]
}